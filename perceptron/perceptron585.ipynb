{
 "cells": [
  {
   "cell_type": "code",
   "execution_count": 1,
   "metadata": {},
   "outputs": [],
   "source": [
    "import numpy as np"
   ]
  },
  {
   "cell_type": "code",
   "execution_count": 16,
   "metadata": {},
   "outputs": [],
   "source": [
    "# Defining the Perceptron model\n",
    "class Perceptron():\n",
    "    def __init__(self, num_features):\n",
    "        self.num_features = num_features\n",
    "        self.weights = np.zeros((num_features, 1), dtype = float)\n",
    "        self.bias = np.zeros(1, dtype = float)\n",
    "    \n",
    "    def predict(self, x):\n",
    "        activation = np.dot(x, self.weights) + self.bias\n",
    "        predictions = np.where(activation > 0., 1, 0)\n",
    "        return predictions\n",
    "    \n",
    "    def evaluate(self, x, y):\n",
    "        prediction = self.predict(x)\n",
    "        if prediction == y:\n",
    "            return 1\n",
    "        else: \n",
    "            return 0\n",
    "    \n",
    "    def accuracy(self, x, y):\n",
    "        predictions = self.predict(x).reshape(-1)\n",
    "        acc = np.sum(predictions == y) / y.shape[0]\n",
    "        return acc\n",
    "    \n",
    "    def calc_errors(self, x, y):\n",
    "        y_hat = self.predict(x)\n",
    "        errors = y - y_hat\n",
    "        return errors\n",
    "    \n",
    "    def train(self, x, y, epochs, lr = 1):\n",
    "        for e in range(epochs):\n",
    "            for i in range(y.shape[0]):            \n",
    "                error = self.calc_errors(x[i].reshape(1, self.num_features), y[i]).reshape(-1)\n",
    "                self.weights += (lr * error * x[i]).reshape(self.num_features, 1)\n",
    "                self.bias += lr * error"
   ]
  },
  {
   "cell_type": "code",
   "execution_count": 98,
   "metadata": {},
   "outputs": [],
   "source": [
    "# Load the dataset\n",
    "data = np.genfromtxt('toy_data.txt', delimiter='\\t')\n",
    "X, y = data[:, :2], data[:, 2]\n",
    "y = y.astype(int)\n",
    "\n",
    "# Shuffling & train/test split\n",
    "shuffle_idx = np.arange(y.shape[0])\n",
    "shuffle_rng = np.random.RandomState(123)\n",
    "shuffle_rng.shuffle(shuffle_idx)\n",
    "X, y = X[shuffle_idx], y[shuffle_idx]\n",
    "\n",
    "\n",
    "training_percentage = 80\n",
    "X_train, X_test = X[shuffle_idx[:training_percentage]], X[shuffle_idx[training_percentage:]]\n",
    "y_train, y_test = y[shuffle_idx[:training_percentage]], y[shuffle_idx[training_percentage:]]\n",
    "\n",
    "# Normalize (mean zero, unit variance)\n",
    "mu, sigma = X_train.mean(axis=0), X_train.std(axis=0)\n",
    "X_train = (X_train - mu) / sigma\n",
    "X_test = (X_test - mu) / sigma"
   ]
  },
  {
   "cell_type": "code",
   "execution_count": 93,
   "metadata": {},
   "outputs": [
    {
     "name": "stdout",
     "output_type": "stream",
     "text": [
      "[-1.52655666e-17 -1.94289029e-17]\n",
      "[1. 1.]\n",
      "200\n",
      "80\n",
      "20\n"
     ]
    }
   ],
   "source": [
    "print(X_train.mean(axis=0))\n",
    "print(X_train.std(axis=0))\n",
    "\n",
    "print(X.shape[0])\n",
    "print(X_train.shape[0])\n",
    "print(X_test.shape[0])"
   ]
  },
  {
   "cell_type": "code",
   "execution_count": 73,
   "metadata": {},
   "outputs": [
    {
     "data": {
      "image/png": "[encoded data removed]",
      "text/plain": [
       "<Figure size 432x288 with 1 Axes>"
      ]
     },
     "metadata": {
      "needs_background": "light"
     },
     "output_type": "display_data"
    },
    {
     "data": {
      "image/png": "[encoded data removed]",
      "text/plain": [
       "<Figure size 432x288 with 1 Axes>"
      ]
     },
     "metadata": {
      "needs_background": "light"
     },
     "output_type": "display_data"
    }
   ],
   "source": [
    "# plotting data\n",
    "import matplotlib.pyplot as plt\n",
    "\n",
    "plt.scatter(X[y==0, 0], X[y==0, 1], label='class 0', marker='o')\n",
    "plt.scatter(X[y==1, 0], X[y==1, 1], label='class 1', marker='s')\n",
    "plt.title('Training set')\n",
    "plt.xlabel('feature 1')\n",
    "plt.ylabel('feature 2')\n",
    "plt.xlim([-3, 3])\n",
    "plt.ylim([-3, 3])\n",
    "plt.legend()\n",
    "plt.show()\n",
    "\n",
    "plt.scatter(X_train[y_train==0, 0], X_train[y_train==0, 1], label='class 0', marker='o')\n",
    "plt.scatter(X_train[y_train==1, 0], X_train[y_train==1, 1], label='class 1', marker='s')\n",
    "plt.title('Training set')\n",
    "plt.xlabel('feature 1')\n",
    "plt.ylabel('feature 2')\n",
    "plt.xlim([-3, 3])\n",
    "plt.ylim([-3, 3])\n",
    "plt.legend()\n",
    "plt.show()"
   ]
  },
  {
   "cell_type": "code",
   "execution_count": 74,
   "metadata": {},
   "outputs": [
    {
     "name": "stdout",
     "output_type": "stream",
     "text": [
      "Model parameters:\n",
      "\n",
      "\n",
      "Weights: [[1.32209889]\n",
      " [1.29743022]]\n",
      "\n",
      "Bias: [-1.]\n",
      "\n"
     ]
    }
   ],
   "source": [
    "pm = Perceptron(num_features=2)\n",
    "\n",
    "pm.train(X_train, y_train, epochs=10)\n",
    "\n",
    "print('Model parameters:\\n\\n')\n",
    "print('Weights: %s\\n' % pm.weights)\n",
    "print('Bias: %s\\n' % pm.bias)"
   ]
  },
  {
   "cell_type": "code",
   "execution_count": 75,
   "metadata": {},
   "outputs": [
    {
     "name": "stdout",
     "output_type": "stream",
     "text": [
      "100.0\n"
     ]
    }
   ],
   "source": [
    "train_acc = pm.accuracy(X_train, y_train)\n",
    "print(train_acc*100)"
   ]
  },
  {
   "cell_type": "code",
   "execution_count": 76,
   "metadata": {},
   "outputs": [
    {
     "name": "stdout",
     "output_type": "stream",
     "text": [
      "90.0\n"
     ]
    }
   ],
   "source": [
    "test_acc = pm.accuracy(X_test, y_test)\n",
    "print(test_acc*100)"
   ]
  },
  {
   "cell_type": "code",
   "execution_count": 21,
   "metadata": {},
   "outputs": [],
   "source": [
    "# training the Perceptron model\n",
    "all_weights = []\n",
    "all_biases = []\n",
    "\n",
    "my_perceptron = Perceptron(num_features=2)\n",
    "\n",
    "acc = 0\n",
    "\n",
    "for epoch in range(10):\n",
    "\n",
    "    for i in range(X.shape[0]):\n",
    "        \n",
    "        all_weights.append(my_perceptron.weights.copy())\n",
    "        all_biases.append(my_perceptron.bias.copy())\n",
    "        my_perceptron.train(X[i].reshape(1, -1), y[i].reshape(-1), epochs=1)\n",
    "        \n",
    "        acc = my_perceptron.accuracy(X, y)\n",
    "        \n",
    "        if acc == 1.0:\n",
    "            break\n",
    "            \n",
    "    if acc == 1.0:\n",
    "        all_weights.append(my_perceptron.weights.copy())\n",
    "        all_biases.append(my_perceptron.bias.copy())\n",
    "        break"
   ]
  },
  {
   "cell_type": "code",
   "execution_count": 22,
   "metadata": {},
   "outputs": [
    {
     "data": {
      "text/plain": [
       "1.0"
      ]
     },
     "execution_count": 22,
     "metadata": {},
     "output_type": "execute_result"
    }
   ],
   "source": [
    "acc"
   ]
  },
  {
   "cell_type": "code",
   "execution_count": null,
   "metadata": {},
   "outputs": [],
   "source": [
    "# Lets check how the weights were updated\n",
    "import imageio\n",
    "\n",
    "\n",
    "scatter_highlight_defaults = {'c': '',\n",
    "                              'edgecolor': 'k',\n",
    "                              'alpha': 1.0,\n",
    "                              'linewidths': 2,\n",
    "                              'marker': 'o',\n",
    "                              's': 150}\n",
    "\n",
    "def plot(i):\n",
    "    \n",
    "    fig, ax = plt.subplots()\n",
    "    w, b = all_weights[i], all_biases[i]\n",
    "    \n",
    "    x_min = -20\n",
    "    y_min = ( (-(w[0] * x_min) - b[0]) \n",
    "              / w[1] )\n",
    "\n",
    "    x_max = 20\n",
    "    y_max = ( (-(w[0] * x_max) - b[0]) \n",
    "              / w[1] )\n",
    "    \n",
    "    ax.set_xlim([-5., 5])\n",
    "    ax.set_ylim([-5., 5])\n",
    "    \n",
    "    ax.set_xlabel('Iteration %d' % i)\n",
    "\n",
    "    ax.plot([x_min, x_max], [y_min, y_max], color='k')\n",
    "    \n",
    "    ax.scatter(X[y==0, 0], X[y==0, 1], label='class 0', marker='o')\n",
    "    ax.scatter(X[y==1, 0], X[y==1, 1], label='class 1', marker='s')\n",
    "    \n",
    "    ax.scatter(X[i][0], X[i][1], **scatter_highlight_defaults)\n",
    "\n",
    "    fig.canvas.draw()\n",
    "    image = np.frombuffer(fig.canvas.tostring_rgb(), dtype='uint8')\n",
    "    image = image.reshape(fig.canvas.get_width_height()[::-1] + (3,))\n",
    "\n",
    "    return image\n",
    "\n",
    "\n",
    "kwargs_write = {'fps':5.0, 'quantizer':'nq'}\n",
    "imageio.mimsave('training.gif', [plot(i) for i in range(len(all_weights))], fps=1)"
   ]
  },
  {
   "cell_type": "code",
   "execution_count": 35,
   "metadata": {},
   "outputs": [],
   "source": [
    "# Load the dataset\n",
    "data_diabetes = np.genfromtxt('diabetes.csv', delimiter=',')\n",
    "X = data_diabetes[:, :8] \n",
    "y = data_diabetes[:, 8]\n",
    "y = y.astype(int)\n",
    "\n",
    "# Shuffling & train/test split\n",
    "shuffle_idx = np.arange(y.shape[0])\n",
    "shuffle_rng = np.random.RandomState(123)\n",
    "shuffle_rng.shuffle(shuffle_idx)\n",
    "X, y = X[shuffle_idx], y[shuffle_idx]"
   ]
  },
  {
   "cell_type": "code",
   "execution_count": 37,
   "metadata": {},
   "outputs": [],
   "source": [
    "all_weights = []\n",
    "all_biases = []\n",
    "\n",
    "my_perceptron = Perceptron(num_features=8)\n",
    "\n",
    "acc = 0\n",
    "\n",
    "for epoch in range(10):\n",
    "\n",
    "    for i in range(X.shape[0]):\n",
    "        \n",
    "        all_weights.append(my_perceptron.weights.copy())\n",
    "        all_biases.append(my_perceptron.bias.copy())\n",
    "        my_perceptron.train(X[i].reshape(1, -1), y[i].reshape(-1), epochs=1)\n",
    "        \n",
    "        acc = my_perceptron.accuracy(X, y)\n",
    "        \n",
    "        if acc == 1.0:\n",
    "            break\n",
    "            \n",
    "    if acc == 1.0:\n",
    "        all_weights.append(my_perceptron.weights.copy())\n",
    "        all_biases.append(my_perceptron.bias.copy())\n",
    "        break"
   ]
  },
  {
   "cell_type": "code",
   "execution_count": 38,
   "metadata": {},
   "outputs": [
    {
     "data": {
      "text/plain": [
       "0.6501950585175552"
      ]
     },
     "execution_count": 38,
     "metadata": {},
     "output_type": "execute_result"
    }
   ],
   "source": [
    "# lets check how does the model perform\n",
    "acc"
   ]
  },
  {
   "cell_type": "code",
   "execution_count": null,
   "metadata": {},
   "outputs": [],
   "source": []
  }
 ],
 "metadata": {
  "interpreter": {
   "hash": "7b999d31245cd3577c19804fc2f5ff5ffb66f919219a69efcf78ae0c1dcc9f97"
  },
  "kernelspec": {
   "display_name": "Python 3.7.4 64-bit ('deeplearning': conda)",
   "name": "python3"
  },
  "language_info": {
   "codemirror_mode": {
    "name": "ipython",
    "version": 3
   },
   "file_extension": ".py",
   "mimetype": "text/x-python",
   "name": "python",
   "nbconvert_exporter": "python",
   "pygments_lexer": "ipython3",
   "version": "3.7.4"
  }
 },
 "nbformat": 4,
 "nbformat_minor": 2
}
